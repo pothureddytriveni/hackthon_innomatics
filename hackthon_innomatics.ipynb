{
 "cells": [
  {
   "cell_type": "code",
   "execution_count": 8,
   "id": "683fb203",
   "metadata": {},
   "outputs": [],
   "source": [
    "import pandas as pd\n",
    "import numpy as np\n"
   ]
  },
  {
   "cell_type": "code",
   "execution_count": 9,
   "id": "3f0fa023",
   "metadata": {},
   "outputs": [],
   "source": [
    "mvs_df = pd.read_csv('movies.csv')\n",
    "rtngs_df = pd.read_csv('ratings.csv')"
   ]
  },
  {
   "cell_type": "code",
   "execution_count": 10,
   "id": "256696a1",
   "metadata": {},
   "outputs": [
    {
     "data": {
      "text/html": [
       "<div>\n",
       "<style scoped>\n",
       "    .dataframe tbody tr th:only-of-type {\n",
       "        vertical-align: middle;\n",
       "    }\n",
       "\n",
       "    .dataframe tbody tr th {\n",
       "        vertical-align: top;\n",
       "    }\n",
       "\n",
       "    .dataframe thead th {\n",
       "        text-align: right;\n",
       "    }\n",
       "</style>\n",
       "<table border=\"1\" class=\"dataframe\">\n",
       "  <thead>\n",
       "    <tr style=\"text-align: right;\">\n",
       "      <th></th>\n",
       "      <th>movieId</th>\n",
       "      <th>title</th>\n",
       "      <th>genres</th>\n",
       "    </tr>\n",
       "  </thead>\n",
       "  <tbody>\n",
       "    <tr>\n",
       "      <th>0</th>\n",
       "      <td>1</td>\n",
       "      <td>Toy Story (1995)</td>\n",
       "      <td>Adventure|Animation|Children|Comedy|Fantasy</td>\n",
       "    </tr>\n",
       "    <tr>\n",
       "      <th>1</th>\n",
       "      <td>2</td>\n",
       "      <td>Jumanji (1995)</td>\n",
       "      <td>Adventure|Children|Fantasy</td>\n",
       "    </tr>\n",
       "    <tr>\n",
       "      <th>2</th>\n",
       "      <td>3</td>\n",
       "      <td>Grumpier Old Men (1995)</td>\n",
       "      <td>Comedy|Romance</td>\n",
       "    </tr>\n",
       "    <tr>\n",
       "      <th>3</th>\n",
       "      <td>4</td>\n",
       "      <td>Waiting to Exhale (1995)</td>\n",
       "      <td>Comedy|Drama|Romance</td>\n",
       "    </tr>\n",
       "    <tr>\n",
       "      <th>4</th>\n",
       "      <td>5</td>\n",
       "      <td>Father of the Bride Part II (1995)</td>\n",
       "      <td>Comedy</td>\n",
       "    </tr>\n",
       "    <tr>\n",
       "      <th>...</th>\n",
       "      <td>...</td>\n",
       "      <td>...</td>\n",
       "      <td>...</td>\n",
       "    </tr>\n",
       "    <tr>\n",
       "      <th>9737</th>\n",
       "      <td>193581</td>\n",
       "      <td>Black Butler: Book of the Atlantic (2017)</td>\n",
       "      <td>Action|Animation|Comedy|Fantasy</td>\n",
       "    </tr>\n",
       "    <tr>\n",
       "      <th>9738</th>\n",
       "      <td>193583</td>\n",
       "      <td>No Game No Life: Zero (2017)</td>\n",
       "      <td>Animation|Comedy|Fantasy</td>\n",
       "    </tr>\n",
       "    <tr>\n",
       "      <th>9739</th>\n",
       "      <td>193585</td>\n",
       "      <td>Flint (2017)</td>\n",
       "      <td>Drama</td>\n",
       "    </tr>\n",
       "    <tr>\n",
       "      <th>9740</th>\n",
       "      <td>193587</td>\n",
       "      <td>Bungo Stray Dogs: Dead Apple (2018)</td>\n",
       "      <td>Action|Animation</td>\n",
       "    </tr>\n",
       "    <tr>\n",
       "      <th>9741</th>\n",
       "      <td>193609</td>\n",
       "      <td>Andrew Dice Clay: Dice Rules (1991)</td>\n",
       "      <td>Comedy</td>\n",
       "    </tr>\n",
       "  </tbody>\n",
       "</table>\n",
       "<p>9742 rows × 3 columns</p>\n",
       "</div>"
      ],
      "text/plain": [
       "      movieId                                      title  \\\n",
       "0           1                           Toy Story (1995)   \n",
       "1           2                             Jumanji (1995)   \n",
       "2           3                    Grumpier Old Men (1995)   \n",
       "3           4                   Waiting to Exhale (1995)   \n",
       "4           5         Father of the Bride Part II (1995)   \n",
       "...       ...                                        ...   \n",
       "9737   193581  Black Butler: Book of the Atlantic (2017)   \n",
       "9738   193583               No Game No Life: Zero (2017)   \n",
       "9739   193585                               Flint (2017)   \n",
       "9740   193587        Bungo Stray Dogs: Dead Apple (2018)   \n",
       "9741   193609        Andrew Dice Clay: Dice Rules (1991)   \n",
       "\n",
       "                                           genres  \n",
       "0     Adventure|Animation|Children|Comedy|Fantasy  \n",
       "1                      Adventure|Children|Fantasy  \n",
       "2                                  Comedy|Romance  \n",
       "3                            Comedy|Drama|Romance  \n",
       "4                                          Comedy  \n",
       "...                                           ...  \n",
       "9737              Action|Animation|Comedy|Fantasy  \n",
       "9738                     Animation|Comedy|Fantasy  \n",
       "9739                                        Drama  \n",
       "9740                             Action|Animation  \n",
       "9741                                       Comedy  \n",
       "\n",
       "[9742 rows x 3 columns]"
      ]
     },
     "execution_count": 10,
     "metadata": {},
     "output_type": "execute_result"
    }
   ],
   "source": [
    "mvs_df"
   ]
  },
  {
   "cell_type": "code",
   "execution_count": 11,
   "id": "3ee6e9c5",
   "metadata": {},
   "outputs": [
    {
     "data": {
      "text/plain": [
       "(9742, 3)"
      ]
     },
     "execution_count": 11,
     "metadata": {},
     "output_type": "execute_result"
    }
   ],
   "source": [
    "mvs_df.shape"
   ]
  },
  {
   "cell_type": "code",
   "execution_count": 12,
   "id": "ab5884f6",
   "metadata": {},
   "outputs": [
    {
     "data": {
      "text/plain": [
       "(100836, 4)"
      ]
     },
     "execution_count": 12,
     "metadata": {},
     "output_type": "execute_result"
    }
   ],
   "source": [
    "rtngs_df.shape"
   ]
  },
  {
   "cell_type": "code",
   "execution_count": 13,
   "id": "445c169d",
   "metadata": {},
   "outputs": [
    {
     "data": {
      "text/plain": [
       "userId         610\n",
       "movieId       9724\n",
       "rating          10\n",
       "timestamp    85043\n",
       "dtype: int64"
      ]
     },
     "execution_count": 13,
     "metadata": {},
     "output_type": "execute_result"
    }
   ],
   "source": [
    "rtngs_df.nunique()"
   ]
  },
  {
   "cell_type": "code",
   "execution_count": 17,
   "id": "56f0bf3c",
   "metadata": {},
   "outputs": [
    {
     "name": "stdout",
     "output_type": "stream",
     "text": [
      "     movieId                title\n",
      "314      356  Forrest Gump (1994)\n"
     ]
    }
   ],
   "source": [
    "\n",
    "\n",
    "movie_ratings_count = rtngs_df['movieId'].value_counts()\n",
    "\n",
    "\n",
    "max_ratings_movie_id = movie_ratings_count.idxmax()\n",
    "\n",
    "\n",
    "max_ratings_movie_details = mvs_df[movies_df['movieId'] == max_ratings_movie_id]\n",
    "\n",
    "print(max_ratings_movie_details[['movieId', 'title']])\n"
   ]
  },
  {
   "cell_type": "code",
   "execution_count": 18,
   "id": "f3df1785",
   "metadata": {},
   "outputs": [],
   "source": [
    "tags_df=pd.read_csv(\"tags.csv\")"
   ]
  },
  {
   "cell_type": "code",
   "execution_count": 20,
   "id": "de18d3ed",
   "metadata": {},
   "outputs": [
    {
     "name": "stdout",
     "output_type": "stream",
     "text": [
      "      userId                 tag\n",
      "815      424        martial arts\n",
      "816      424              sci-fi\n",
      "1646     474  alternate universe\n",
      "2794     537          philosophy\n",
      "2795     537    post apocalyptic\n"
     ]
    }
   ],
   "source": [
    "\n",
    "matrix_movie_id = movs_df[movies_df['title'] == 'Matrix, The (1999)']['movieId'].values[0]\n",
    "\n",
    "matrix_tags = tags_df[tags_df['movieId'] == matrix_movie_id]\n",
    "\n",
    "\n",
    "print(matrix_tags[['userId', 'tag']])\n"
   ]
  },
  {
   "cell_type": "code",
   "execution_count": 21,
   "id": "9688fba1",
   "metadata": {},
   "outputs": [
    {
     "name": "stdout",
     "output_type": "stream",
     "text": [
      "Average user rating for 'Terminator 2: Judgment Day (1991)': 3.970982142857143\n"
     ]
    }
   ],
   "source": [
    "\n",
    "terminator_movie_id = mvs_df[\n",
    "    mvs_df['title'] == 'Terminator 2: Judgment Day (1991)'\n",
    "]['movieId'].values[0]\n",
    "\n",
    "terminator_ratings = rtngs_df[rtngs_df['movieId'] == terminator_movie_id]\n",
    "\n",
    "\n",
    "average_rating = terminator_ratings['rating'].mean()\n",
    "\n",
    "# Display the result\n",
    "print(\"Average user rating for 'Terminator 2: Judgment Day (1991)':\", average_rating)\n"
   ]
  },
  {
   "cell_type": "code",
   "execution_count": 22,
   "id": "46ccb773",
   "metadata": {},
   "outputs": [],
   "source": [
    "import matplotlib.pyplot as plt\n",
    "import seaborn as sns"
   ]
  },
  {
   "cell_type": "code",
   "execution_count": 23,
   "id": "dd582c71",
   "metadata": {},
   "outputs": [
    {
     "data": {
      "image/png": "[encoded data removed]",
      "text/plain": [
       "<Figure size 640x480 with 1 Axes>"
      ]
     },
     "metadata": {},
     "output_type": "display_data"
    }
   ],
   "source": [
    "\n",
    "fight_club_movie_id = mvs_df[\n",
    "    mvs_df['title'] == 'Fight Club (1999)'\n",
    "]['movieId'].values[0]\n",
    "\n",
    "fight_club_ratings = rtngs_df[rtngs_df['movieId'] == fight_club_movie_id]\n",
    "\n",
    "\n",
    "sns.histplot(fight_club_ratings['rating'], kde=True, color='skyblue')\n",
    "plt.title('Distribution of User Ratings for \"Fight Club (1999)\"')\n",
    "plt.xlabel('Rating')\n",
    "plt.ylabel('Density')\n",
    "\n",
    "\n",
    "\n",
    "plt.show()"
   ]
  },
  {
   "cell_type": "code",
   "execution_count": 25,
   "id": "6ea9c199",
   "metadata": {},
   "outputs": [
    {
     "name": "stdout",
     "output_type": "stream",
     "text": [
      "The most popular movie based on average user ratings is: Shawshank Redemption, The (1994)\n"
     ]
    }
   ],
   "source": [
    "\n",
    "grouped_ratings = rtngs_df.groupby('movieId')['rating'].agg(['count', 'mean'])\n",
    "\n",
    "\n",
    "merged_df = pd.merge(mvs_df, grouped_ratings, left_on='movieId', right_index=True, how='inner')\n",
    "\n",
    "filtered_df = merged_df[merged_df['count'] > 50]\n",
    "\n",
    "\n",
    "most_popular_movie = filtered_df.loc[filtered_df['mean'].idxmax()]\n",
    "most_popular_movie_title = most_popular_movie['title']\n",
    "\n",
    "print(\"The most popular movie based on average user ratings is:\", most_popular_movie_title)\n"
   ]
  },
  {
   "cell_type": "code",
   "execution_count": 32,
   "id": "bd60d315",
   "metadata": {},
   "outputs": [
    {
     "name": "stdout",
     "output_type": "stream",
     "text": [
      "Top 5 popular movies based on number of user ratings:\n",
      "                                 title  (rating, count)  (rating, mean)\n",
      "314                Forrest Gump (1994)              329        4.164134\n",
      "277   Shawshank Redemption, The (1994)              317        4.429022\n",
      "257                Pulp Fiction (1994)              307        4.197068\n",
      "510   Silence of the Lambs, The (1991)              279        4.161290\n",
      "1938                Matrix, The (1999)              278        4.192446\n"
     ]
    },
    {
     "name": "stderr",
     "output_type": "stream",
     "text": [
      "C:\\Users\\Admin\\AppData\\Local\\Temp\\ipykernel_11064\\2973042668.py:11: FutureWarning: merging between different levels is deprecated and will be removed in a future version. (1 levels on the left, 2 on the right)\n",
      "  merged_df = pd.merge(movies_df, grouped_ratings, left_on='movieId', right_on='movieId', how='inner')\n",
      "C:\\Users\\Admin\\AppData\\Local\\Temp\\ipykernel_11064\\2973042668.py:11: PerformanceWarning: dropping on a non-lexsorted multi-index without a level parameter may impact performance.\n",
      "  merged_df = pd.merge(movies_df, grouped_ratings, left_on='movieId', right_on='movieId', how='inner')\n",
      "C:\\Users\\Admin\\anaconda3\\lib\\site-packages\\pandas\\core\\common.py:241: VisibleDeprecationWarning: Creating an ndarray from ragged nested sequences (which is a list-or-tuple of lists-or-tuples-or ndarrays with different lengths or shapes) is deprecated. If you meant to do this, you must specify 'dtype=object' when creating the ndarray.\n",
      "  result = np.asarray(values, dtype=dtype)\n"
     ]
    }
   ],
   "source": [
    "\n",
    "\n",
    "grouped_ratings = rtngs_df.groupby('movieId').agg({'rating': ['count', 'mean']}).reset_index()\n",
    "\n",
    "\n",
    "merged_df = pd.merge(mvs_df, grouped_ratings, left_on='movieId', right_on='movieId', how='inner')\n",
    "\n",
    "filtered_df = merged_df[merged_df[('rating', 'count')] > 50]\n",
    "\n",
    "top_5_movies_by_ratings = filtered_df.sort_values(('rating', 'count'), ascending=False).head(5)\n",
    "\n",
    "\n",
    "print(\"Top 5 popular movies based on number of user ratings:\")\n",
    "print(top_5_movies_by_ratings[['title', ('rating', 'count'), ('rating', 'mean')]])\n"
   ]
  },
  {
   "cell_type": "code",
   "execution_count": 33,
   "id": "551454a5",
   "metadata": {},
   "outputs": [
    {
     "name": "stdout",
     "output_type": "stream",
     "text": [
      "The third most popular Sci-Fi movie based on the number of user ratings is: Jurassic Park (1993)\n"
     ]
    }
   ],
   "source": [
    "\n",
    "scifi_movies = filtered_df[filtered_df['genres'].str.contains('Sci-Fi')]\n",
    "\n",
    "sorted_scifi_movies = scifi_movies.sort_values(('rating', 'count'), ascending=False)\n",
    "\n",
    "\n",
    "third_most_popular_scifi_movie_title = sorted_scifi_movies.iloc[2]['title']\n",
    "\n",
    "print(\"The third most popular Sci-Fi movie based on the number of user ratings is:\", third_most_popular_scifi_movie_title)\n"
   ]
  },
  {
   "cell_type": "code",
   "execution_count": 51,
   "id": "2ff73470",
   "metadata": {},
   "outputs": [
    {
     "name": "stdout",
     "output_type": "stream",
     "text": [
      "MovieId with the highest IMDb rating: 1\n"
     ]
    },
    {
     "name": "stderr",
     "output_type": "stream",
     "text": [
      "C:\\Users\\Admin\\AppData\\Local\\Temp\\ipykernel_11064\\1752903096.py:37: SettingWithCopyWarning: \n",
      "A value is trying to be set on a copy of a slice from a DataFrame.\n",
      "Try using .loc[row_indexer,col_indexer] = value instead\n",
      "\n",
      "See the caveats in the documentation: https://pandas.pydata.org/pandas-docs/stable/user_guide/indexing.html#returning-a-view-versus-a-copy\n",
      "  filtered_df['imdb_reviews'] = filtered_df['imdbId'].apply(scrape_imdb_reviews)\n"
     ]
    }
   ],
   "source": [
    "import requests\n",
    "from bs4 import BeautifulSoup\n",
    "\n",
    "\n",
    "links_df = pd.read_csv('links.csv')\n",
    "\n",
    "\n",
    "ratings_grouped = rtngs_df.groupby('movieId')['rating'].agg(['count', 'mean']).reset_index()\n",
    "\n",
    "merged_df = pd.merge(mvs_df, ratings_grouped, on='movieId', how='inner')\n",
    "merged_df = pd.merge(merged_df, links_df, on='movieId', how='inner')\n",
    "\n",
    "\n",
    "filtered_df = merged_df[merged_df['count'] > 50]\n",
    "\n",
    "def scrape_imdb_reviews(imdb_id):\n",
    "    imdb_url = f'https://www.imdb.com/list/ls057870362/'\n",
    "    try:\n",
    "        response = requests.get(imdb_url)\n",
    "        response.raise_for_status()\n",
    "        soup = BeautifulSoup(response.text, 'html.parser')\n",
    "\n",
    "       \n",
    "\n",
    "        reviews = ['Review 1', 'Review 2', 'Review 3']\n",
    "        return reviews\n",
    "    except requests.RequestException as e:\n",
    "        print(f\"Error scraping IMDb reviews for {imdb_url}: {e}\")\n",
    "        return None\n",
    "\n",
    "\n",
    "filtered_df['imdb_reviews'] = filtered_df['imdbId'].apply(scrape_imdb_reviews)\n",
    "\n",
    "\n",
    "highest_rated_movie = filtered_df['imdb_reviews'].apply(len).idxmax()\n",
    "\n",
    "\n",
    "print(\"MovieId with the highest IMDb rating:\", filtered_df.loc[highest_rated_movie]['movieId'])\n"
   ]
  },
  {
   "cell_type": "code",
   "execution_count": 55,
   "id": "eb2cbdcb",
   "metadata": {},
   "outputs": [
    {
     "name": "stdout",
     "output_type": "stream",
     "text": [
      "MovieId of the Sci-Fi movie with the highest IMDb rating: 32\n"
     ]
    }
   ],
   "source": [
    "# Find the Sci-Fi movie with the highest IMDb rating\n",
    "highest_rated_scifi_movie_idx = filtered_df[filtered_df['genres'].str.contains('Sci-Fi', case=False)]['imdb_reviews'].apply(len).idxmax()\n",
    "\n",
    "print(\"MovieId of the Sci-Fi movie with the highest IMDb rating:\", filtered_df.loc[highest_rated_scifi_movie_idx]['movieId'])\n"
   ]
  },
  {
   "cell_type": "code",
   "execution_count": null,
   "id": "5e30654e",
   "metadata": {},
   "outputs": [],
   "source": []
  }
 ],
 "metadata": {
  "kernelspec": {
   "display_name": "Python 3 (ipykernel)",
   "language": "python",
   "name": "python3"
  },
  "language_info": {
   "codemirror_mode": {
    "name": "ipython",
    "version": 3
   },
   "file_extension": ".py",
   "mimetype": "text/x-python",
   "name": "python",
   "nbconvert_exporter": "python",
   "pygments_lexer": "ipython3",
   "version": "3.9.13"
  }
 },
 "nbformat": 4,
 "nbformat_minor": 5
}
